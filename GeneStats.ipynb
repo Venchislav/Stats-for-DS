{
  "nbformat": 4,
  "nbformat_minor": 0,
  "metadata": {
    "colab": {
      "provenance": [],
      "authorship_tag": "ABX9TyMK6ympPxegA42o4ydXLQYF",
      "include_colab_link": true
    },
    "kernelspec": {
      "name": "python3",
      "display_name": "Python 3"
    },
    "language_info": {
      "name": "python"
    }
  },
  "cells": [
    {
      "cell_type": "markdown",
      "metadata": {
        "id": "view-in-github",
        "colab_type": "text"
      },
      "source": [
        "<a href=\"https://colab.research.google.com/github/Venchislav/Stats-for-DS/blob/main/GeneStats.ipynb\" target=\"_parent\"><img src=\"https://colab.research.google.com/assets/colab-badge.svg\" alt=\"Open In Colab\"/></a>"
      ]
    },
    {
      "cell_type": "code",
      "execution_count": 2,
      "metadata": {
        "id": "7aU73WRqHOTV"
      },
      "outputs": [],
      "source": [
        "import pandas as pd\n",
        "import scipy.stats as stats"
      ]
    },
    {
      "cell_type": "code",
      "source": [
        "df = pd.read_csv(\"https://stepik.org/media/attachments/course/524/test_data.csv\")"
      ],
      "metadata": {
        "id": "_6QdUmkCIpor"
      },
      "execution_count": 5,
      "outputs": []
    },
    {
      "cell_type": "code",
      "source": [
        "def lowest_chi(df):\n",
        "  p_lowest = float('inf')\n",
        "\n",
        "  for i in df.columns:\n",
        "    cnts = df[i].value_counts()\n",
        "    p = stats.chisquare(cnts)[1]\n",
        "    if p < p_lowest:\n",
        "      group = i\n",
        "      p_lowest = p\n",
        "  print(f'{group}, {p_lowest} - min p_value and its column')\n",
        "  return group"
      ],
      "metadata": {
        "id": "BKnTkWtBHt3M"
      },
      "execution_count": 9,
      "outputs": []
    },
    {
      "cell_type": "code",
      "source": [
        "lowest_chi(df)"
      ],
      "metadata": {
        "colab": {
          "base_uri": "https://localhost:8080/",
          "height": 53
        },
        "id": "t5_Lk9VXIuGr",
        "outputId": "da46a815-2f98-4d1a-9f58-bf9a97557de7"
      },
      "execution_count": 10,
      "outputs": [
        {
          "output_type": "stream",
          "name": "stdout",
          "text": [
            "V3, 0.2762263279405305 - min p_value and its column\n"
          ]
        },
        {
          "output_type": "execute_result",
          "data": {
            "text/plain": [
              "'V3'"
            ],
            "application/vnd.google.colaboratory.intrinsic+json": {
              "type": "string"
            }
          },
          "metadata": {},
          "execution_count": 10
        }
      ]
    }
  ]
}