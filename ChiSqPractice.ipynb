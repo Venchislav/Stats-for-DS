{
  "nbformat": 4,
  "nbformat_minor": 0,
  "metadata": {
    "colab": {
      "provenance": [],
      "authorship_tag": "ABX9TyM2WBL//b/IPioJFwPMoqDR",
      "include_colab_link": true
    },
    "kernelspec": {
      "name": "python3",
      "display_name": "Python 3"
    },
    "language_info": {
      "name": "python"
    }
  },
  "cells": [
    {
      "cell_type": "markdown",
      "metadata": {
        "id": "view-in-github",
        "colab_type": "text"
      },
      "source": [
        "<a href=\"https://colab.research.google.com/github/Venchislav/Stats-for-DS/blob/main/ChiSqPractice.ipynb\" target=\"_parent\"><img src=\"https://colab.research.google.com/assets/colab-badge.svg\" alt=\"Open In Colab\"/></a>"
      ]
    },
    {
      "cell_type": "code",
      "execution_count": 1,
      "metadata": {
        "id": "PXkwBoR3TWK2"
      },
      "outputs": [],
      "source": [
        "import scipy.stats as stats"
      ]
    },
    {
      "cell_type": "code",
      "source": [
        "a1 = stats.chi2.cdf(2, 2)  # start of range (arg1 - start of our range arg2 - degreeses of freedom)\n",
        "a2 = stats.chi2.cdf(4, 2)  # end of range\n",
        "print(a2 - a1)"
      ],
      "metadata": {
        "colab": {
          "base_uri": "https://localhost:8080/"
        },
        "id": "lVJcZ5uqaybY",
        "outputId": "2b4e7fe4-3b88-444c-da0a-dac7da08704a"
      },
      "execution_count": 3,
      "outputs": [
        {
          "output_type": "stream",
          "name": "stdout",
          "text": [
            "0.23254415793482963\n"
          ]
        }
      ]
    },
    {
      "cell_type": "code",
      "source": [
        "c, p = stats.chisquare([10,10,10,5,10,15])\n",
        "p"
      ],
      "metadata": {
        "colab": {
          "base_uri": "https://localhost:8080/"
        },
        "id": "RoDCmjPscWdx",
        "outputId": "b7538856-2380-4f7e-e144-171cb54647b3"
      },
      "execution_count": 4,
      "outputs": [
        {
          "output_type": "execute_result",
          "data": {
            "text/plain": [
              "0.4158801869955079"
            ]
          },
          "metadata": {},
          "execution_count": 4
        }
      ]
    },
    {
      "cell_type": "code",
      "source": [
        "c, p = stats.chisquare([10, 30, 50], [30, 30, 30])\n",
        "p < 0.05  # decline H0"
      ],
      "metadata": {
        "colab": {
          "base_uri": "https://localhost:8080/"
        },
        "id": "O_AySYcWc5SN",
        "outputId": "ca9717e2-6c92-46eb-d758-4c743ac818f6"
      },
      "execution_count": 10,
      "outputs": [
        {
          "output_type": "execute_result",
          "data": {
            "text/plain": [
              "True"
            ]
          },
          "metadata": {},
          "execution_count": 10
        }
      ]
    },
    {
      "cell_type": "markdown",
      "source": [
        "The task:\n",
        "\n",
        "I recently came to a lecture at the Institute of Bioinformatics and discovered that there were a different number of female and male students in the group: 15 boys and 9 girls. Perhaps this could leave someone indifferent, but I immediately took a piece of paper and a pen to test the hypothesis that the frequency distribution of girls and boys does not differ from the uniform one in the general population of bioinformaticians!"
      ],
      "metadata": {
        "id": "aqzns2cneeCv"
      }
    },
    {
      "cell_type": "code",
      "source": [
        "c, p = stats.chisquare([15, 9])\n",
        "print(p)\n",
        "p < 0.05  # decline H1"
      ],
      "metadata": {
        "colab": {
          "base_uri": "https://localhost:8080/"
        },
        "id": "PW_hl4mueK27",
        "outputId": "af9de32a-b3a4-405b-a9fd-d93b41ac9747"
      },
      "execution_count": 16,
      "outputs": [
        {
          "output_type": "stream",
          "name": "stdout",
          "text": [
            "0.22067136191984324\n"
          ]
        },
        {
          "output_type": "execute_result",
          "data": {
            "text/plain": [
              "False"
            ]
          },
          "metadata": {},
          "execution_count": 16
        }
      ]
    },
    {
      "cell_type": "code",
      "source": [
        "c, p = stats.chisquare([795, 705])\n",
        "print(p)\n",
        "p < 0.05  # decline H1"
      ],
      "metadata": {
        "colab": {
          "base_uri": "https://localhost:8080/"
        },
        "id": "t-OeX6MafKyC",
        "outputId": "d907ceb8-0eb8-491f-e8b3-1e6f39937cfe"
      },
      "execution_count": 17,
      "outputs": [
        {
          "output_type": "stream",
          "name": "stdout",
          "text": [
            "0.02013675155034633\n"
          ]
        },
        {
          "output_type": "execute_result",
          "data": {
            "text/plain": [
              "True"
            ]
          },
          "metadata": {},
          "execution_count": 17
        }
      ]
    }
  ]
}