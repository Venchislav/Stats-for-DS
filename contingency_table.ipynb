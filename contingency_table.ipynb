{  
  "nbformat": 4,
  "nbformat_minor": 0,
  "metadata": {
    "colab": {
      "provenance": [],
      "authorship_tag": "ABX9TyMLjw3iAiR9fD2xRdRXEznP",
      "include_colab_link": true
    },
    "kernelspec": {
      "name": "python3",
      "display_name": "Python 3"
    },
    "language_info": {
      "name": "python"
    }
  },
  "cells": [
    {
      "cell_type": "markdown",
      "metadata": {
        "id": "view-in-github",
        "colab_type": "text"
      },
      "source": [
        "<a href=\"https://colab.research.google.com/github/Venchislav/Stats-for-DS/blob/main/contingency_table.ipynb\" target=\"_parent\"><img src=\"https://colab.research.google.com/assets/colab-badge.svg\" alt=\"Open In Colab\"/></a>"
      ]
    },
    {
      "cell_type": "code",
      "execution_count": 1,
      "metadata": {
        "id": "QjbGE5DHowGp"
      },
      "outputs": [],
      "source": [
        "import scipy.stats as stats"
      ]
    },
    {
      "cell_type": "code",
      "source": [
        "stats.contingency.expected_freq([[10, 5], [6, 15]])"
      ],
      "metadata": {
        "colab": {
          "base_uri": "https://localhost:8080/"
        },
        "id": "qnIUBY3_o7kG",
        "outputId": "9dc83d49-9fb3-499d-dbdb-ebb79f0e5a63"
      },
      "execution_count": 3,
      "outputs": [
        {
          "output_type": "execute_result",
          "data": {
            "text/plain": [
              "array([[ 6.66666667,  8.33333333],\n",
              "       [ 9.33333333, 11.66666667]])"
            ]
          },
          "metadata": {},
          "execution_count": 3
        }
      ]
    },
    {
      "cell_type": "markdown",
      "source": [
        "or"
      ],
      "metadata": {
        "id": "qY11gpPMqsQS"
      }
    },
    {
      "cell_type": "code",
      "source": [
        "stats.chi2_contingency([[10, 5], [6, 15]])[3]"
      ],
      "metadata": {
        "colab": {
          "base_uri": "https://localhost:8080/"
        },
        "id": "V-CeSumCquov",
        "outputId": "6c871761-c1b3-496c-dbeb-854533462e5f"
      },
      "execution_count": 5,
      "outputs": [
        {
          "output_type": "execute_result",
          "data": {
            "text/plain": [
              "array([[ 6.66666667,  8.33333333],\n",
              "       [ 9.33333333, 11.66666667]])"
            ]
          },
          "metadata": {},
          "execution_count": 5
        }
      ]
    },
    {
      "cell_type": "code",
      "source": [
        "# actually 2nd option gives more values\n",
        "stats.chi2_contingency([[10, 5], [6, 15]])"
      ],
      "metadata": {
        "colab": {
          "base_uri": "https://localhost:8080/"
        },
        "id": "Jf4mr1q7q7W2",
        "outputId": "d53d3616-9d86-4afd-bc8f-87e3ec282b84"
      },
      "execution_count": 6,
      "outputs": [
        {
          "output_type": "execute_result",
          "data": {
            "text/plain": [
              "Chi2ContingencyResult(statistic=3.715714285714286, pvalue=0.053902557169387154, dof=1, expected_freq=array([[ 6.66666667,  8.33333333],\n",
              "       [ 9.33333333, 11.66666667]]))"
            ]
          },
          "metadata": {},
          "execution_count": 6
        }
      ]
    },
    {
      "cell_type": "code",
      "source": [
        "c = stats.chi2_contingency([[20, 15], [11, 12], [7, 9]])\n",
        "c"
      ],
      "metadata": {
        "colab": {
          "base_uri": "https://localhost:8080/"
        },
        "id": "N3_AE5ehwb5e",
        "outputId": "db8633d0-c176-459e-f87e-0075e8efab43"
      },
      "execution_count": 14,
      "outputs": [
        {
          "output_type": "execute_result",
          "data": {
            "text/plain": [
              "Chi2ContingencyResult(statistic=0.9544070774762996, pvalue=0.6205162173513055, dof=2, expected_freq=array([[17.97297297, 17.02702703],\n",
              "       [11.81081081, 11.18918919],\n",
              "       [ 8.21621622,  7.78378378]]))"
            ]
          },
          "metadata": {},
          "execution_count": 14
        }
      ]
    },
    {
      "cell_type": "code",
      "source": [
        "c[1]"
      ],
      "metadata": {
        "colab": {
          "base_uri": "https://localhost:8080/"
        },
        "id": "bDMEIJQR3JUf",
        "outputId": "15267135-ad94-46f8-f517-8701540145d4"
      },
      "execution_count": 13,
      "outputs": [
        {
          "output_type": "execute_result",
          "data": {
            "text/plain": [
              "0.6205162173513055"
            ]
          },
          "metadata": {},
          "execution_count": 13
        }
      ]
    }
  ]
}
