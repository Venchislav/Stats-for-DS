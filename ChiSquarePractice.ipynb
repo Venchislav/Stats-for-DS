{
  "nbformat": 4,
  "nbformat_minor": 0,
  "metadata": {
    "colab": {
      "provenance": [],
      "authorship_tag": "ABX9TyPZhncujEbGIUw874Q6Pg0r",
      "include_colab_link": true
    },
    "kernelspec": {
      "name": "python3",
      "display_name": "Python 3"
    },
    "language_info": {
      "name": "python"
    }
  },
  "cells": [
    {
      "cell_type": "markdown",
      "metadata": {
        "id": "view-in-github",
        "colab_type": "text"
      },
      "source": [
        "<a href=\"https://colab.research.google.com/github/Venchislav/Stats-for-DS/blob/main/ChiSquarePractice.ipynb\" target=\"_parent\"><img src=\"https://colab.research.google.com/assets/colab-badge.svg\" alt=\"Open In Colab\"/></a>"
      ]
    },
    {
      "cell_type": "code",
      "execution_count": 1,
      "metadata": {
        "id": "bwiQgMa7SNLf"
      },
      "outputs": [],
      "source": [
        "import matplotlib.pyplot as plt\n",
        "from scipy import stats\n",
        "import numpy as np"
      ]
    },
    {
      "cell_type": "code",
      "source": [
        "def coin(size=100, eag=None, tail=None):\n",
        "  if eag == None and tail == None:\n",
        "    arr = [np.random.randint(2) for i in range(size)]\n",
        "    eag = len([i for i in arr if i == 1])\n",
        "    tail = len([i for i in arr if i == 0])\n",
        "  expected = size / 2\n",
        "\n",
        "  chi, p = stats.chisquare([eag, tail], [expected, expected])\n",
        "\n",
        "  if p < 0.05:\n",
        "    print(f'H0 is not correct. Aply H1 with p_val equal to {p}')\n",
        "  else:\n",
        "    print(f'H0 is correct with p_value equal to {p}')\n",
        "\n",
        "  return chi, p\n",
        "\n",
        "coin()"
      ],
      "metadata": {
        "colab": {
          "base_uri": "https://localhost:8080/"
        },
        "id": "QjH23eVHS9HR",
        "outputId": "2d84349d-1c19-4dda-db0c-96eebfde2e03"
      },
      "execution_count": 27,
      "outputs": [
        {
          "output_type": "stream",
          "name": "stdout",
          "text": [
            "H0 is correct with p_value equal to 0.6891565167793516\n"
          ]
        },
        {
          "output_type": "execute_result",
          "data": {
            "text/plain": [
              "(0.16, 0.6891565167793516)"
            ]
          },
          "metadata": {},
          "execution_count": 27
        }
      ]
    },
    {
      "cell_type": "code",
      "source": [
        "coin(size = 2060, eag=1020, tail=1040)"
      ],
      "metadata": {
        "colab": {
          "base_uri": "https://localhost:8080/"
        },
        "id": "Ho6zSg3NYDkU",
        "outputId": "b89d4269-62e0-40fe-b898-685ffcc88fee"
      },
      "execution_count": 29,
      "outputs": [
        {
          "output_type": "stream",
          "name": "stdout",
          "text": [
            "H0 is correct with p_value equal to 0.6594644811079884\n"
          ]
        },
        {
          "output_type": "execute_result",
          "data": {
            "text/plain": [
              "(0.1941747572815534, 0.6594644811079884)"
            ]
          },
          "metadata": {},
          "execution_count": 29
        }
      ]
    }
  ]
}
